{
 "cells": [
  {
   "cell_type": "markdown",
   "metadata": {},
   "source": [
    "# ASSIGNMENT NO 2"
   ]
  },
  {
   "cell_type": "raw",
   "metadata": {},
   "source": [
    "Question no 1:\n",
    "\n",
    "Create an empty list. Accept 10 numbers from the user and append to it the list if it is an even number."
   ]
  },
  {
   "cell_type": "code",
   "execution_count": 1,
   "metadata": {},
   "outputs": [
    {
     "name": "stdout",
     "output_type": "stream",
     "text": [
      "\n",
      "Enter the value : 1\n",
      "\n",
      "Enter the value : 2\n",
      "\n",
      "Enter the value : 3\n",
      "\n",
      "Enter the value : 4\n",
      "\n",
      "Enter the value : 5\n",
      "\n",
      "Enter the value : 6\n",
      "\n",
      "Enter the value : 7\n",
      "\n",
      "Enter the value : 8\n",
      "\n",
      "Enter the value : 9\n",
      "\n",
      "Enter the value : 10\n",
      "\n",
      "The even list [2, 4, 6, 8, 10]\n"
     ]
    }
   ],
   "source": [
    "lst = []\n",
    "\n",
    "\n",
    "for i in range(0,10):\n",
    "    x = int(input(\"\\nEnter the value : \"))\n",
    "    lst.append(x)\n",
    "    \n",
    "even_lst = []\n",
    "\n",
    "for i in lst:\n",
    "    if(i%2==0):\n",
    "        even_lst.append(i)\n",
    "        \n",
    "print(\"\\nThe even list\",even_lst)"
   ]
  },
  {
   "cell_type": "raw",
   "metadata": {},
   "source": [
    "Question no 2:\n",
    "\n",
    "Create a notebook on LIST COMPREHENSION. This exercise is to put you in a Self learning mode"
   ]
  },
  {
   "cell_type": "code",
   "execution_count": 2,
   "metadata": {},
   "outputs": [
    {
     "name": "stdout",
     "output_type": "stream",
     "text": [
      "[2, 8, 12, 66, 74, 82]\n"
     ]
    }
   ],
   "source": [
    "#LIST COMPREHENSION : \n",
    "\n",
    "# creating a list\n",
    "lst = [2,5,8,12,41,66,74,82,91,99]\n",
    "\n",
    "# list comprehensions\n",
    "even_lst = [i for i in lst if i%2==0 ]\n",
    "\n",
    "print(even_lst)"
   ]
  },
  {
   "cell_type": "raw",
   "metadata": {},
   "source": [
    "Question no 3 :\n",
    "\n",
    "Given a number n, you have to write a program that generates a dictionary d which contains (i, i*i), where i is from 1 to n (both included).\n"
   ]
  },
  {
   "cell_type": "code",
   "execution_count": 5,
   "metadata": {},
   "outputs": [
    {
     "name": "stdout",
     "output_type": "stream",
     "text": [
      "8\n",
      "{1: 1, 2: 4, 3: 9, 4: 16, 5: 25, 6: 36, 7: 49, 8: 64}\n"
     ]
    }
   ],
   "source": [
    "# creating a empty dictionary\n",
    "dict = {}\n",
    "\n",
    "n = int(input())\n",
    "\n",
    "for i in range(1,n+1):\n",
    " dict[i] = i*i\n",
    "\n",
    "print(dict)"
   ]
  },
  {
   "cell_type": "raw",
   "metadata": {},
   "source": [
    "Question no 4 :\n",
    "\n",
    "Write a program to compute the distance between the current position after a sequence of movement and original point. If the distance is a float, then just print the nearest integer (use round() function for that and then convert it into an integer)."
   ]
  },
  {
   "cell_type": "code",
   "execution_count": 8,
   "metadata": {},
   "outputs": [
    {
     "name": "stdout",
     "output_type": "stream",
     "text": [
      "4\n",
      "UP 5\n",
      "DOWN 3\n",
      "LEFT 3\n",
      "RIGHT 2\n",
      "2\n"
     ]
    }
   ],
   "source": [
    "#position\n",
    "\n",
    "pos = {\"x\":0,\"y\":0}\n",
    "\n",
    "n = int(input())\n",
    "\n",
    "# for loop\n",
    "for i in range (n):\n",
    "    move =  input().split(\" \")      \n",
    "    \n",
    "    if move[0].lower() == \"up\":     \n",
    "        pos[\"y\"] += int(move[1])    \n",
    "    \n",
    "    elif move[0].lower() == \"down\":\n",
    "        pos[\"y\"] -= int(move[1])\n",
    "    \n",
    "    elif move[0].lower() == \"left\":\n",
    "        pos[\"x\"] -= int(move[1])\n",
    "    \n",
    "    elif move[0].lower() == \"right\":\n",
    "        pos[\"x\"] += int(move[1])\n",
    "\n",
    "        \n",
    "print(int(round((pos[\"x\"]**2 + pos[\"y\"]**2)**0.5)))   "
   ]
  },
  {
   "cell_type": "code",
   "execution_count": null,
   "metadata": {},
   "outputs": [],
   "source": []
  }
 ],
 "metadata": {
  "kernelspec": {
   "display_name": "Python 3",
   "language": "python",
   "name": "python3"
  },
  "language_info": {
   "codemirror_mode": {
    "name": "ipython",
    "version": 3
   },
   "file_extension": ".py",
   "mimetype": "text/x-python",
   "name": "python",
   "nbconvert_exporter": "python",
   "pygments_lexer": "ipython3",
   "version": "3.7.6"
  }
 },
 "nbformat": 4,
 "nbformat_minor": 4
}
